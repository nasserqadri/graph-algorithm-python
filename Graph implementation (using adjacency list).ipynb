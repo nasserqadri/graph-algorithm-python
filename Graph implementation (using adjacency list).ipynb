{
 "cells": [
  {
   "cell_type": "markdown",
   "id": "15c37d39",
   "metadata": {},
   "source": [
    "### Implement graph"
   ]
  },
  {
   "cell_type": "code",
   "execution_count": 33,
   "id": "0aa5a8fa",
   "metadata": {},
   "outputs": [],
   "source": [
    "class Graph:\n",
    "    \n",
    "    def __init__(self):\n",
    "        self.adj_list = {}\n",
    "        \n",
    "    def add_vertex(self, vertex):\n",
    "        if vertex not in self.adj_list.keys():\n",
    "            self.adj_list[vertex] = []\n",
    "            return True\n",
    "        return False\n",
    "    \n",
    "    def print_graph(self):\n",
    "        print('**************')\n",
    "        for i in self.adj_list.keys():\n",
    "            print(f'Vertex {i} has edges to: {self.adj_list[i]}')\n",
    "    \n",
    "    def add_edge(self, src, des):\n",
    "        if src not in self.adj_list or des not in self.adj_list:\n",
    "            return False\n",
    "        \n",
    "        if des not in self.adj_list[src]:\n",
    "            self.adj_list[src].append(des)\n",
    "            return True\n",
    "    \n",
    "    def remove_edge(self, src, des):\n",
    "        if src in self.adj_list and des in self.adj_list:\n",
    "            self.adj_list[src].remove(des)\n",
    "            return True\n",
    "        return False\n",
    "            \n",
    "    \n",
    "    def remove_vertex(self, vertex):\n",
    "        if vertex in self.adj_list.keys():\n",
    "            del self.adj_list[vertex]\n",
    "        for i in self.adj_list.keys():\n",
    "            if vertex in self.adj_list[i]:\n",
    "                self.adj_list[i].remove(vertex)\n",
    "            "
   ]
  },
  {
   "cell_type": "markdown",
   "id": "d655e202",
   "metadata": {},
   "source": [
    "\n",
    "### Test"
   ]
  },
  {
   "cell_type": "code",
   "execution_count": 38,
   "id": "746dc616",
   "metadata": {},
   "outputs": [
    {
     "name": "stdout",
     "output_type": "stream",
     "text": [
      "**************\n",
      "Vertex a has edges to: []\n",
      "Vertex b has edges to: []\n",
      "**************\n",
      "Vertex a has edges to: ['b']\n",
      "Vertex b has edges to: ['a']\n",
      "**************\n",
      "Vertex a has edges to: []\n",
      "**************\n",
      "Vertex a has edges to: ['b']\n",
      "Vertex b has edges to: ['a']\n",
      "**************\n",
      "Vertex a has edges to: ['b']\n",
      "Vertex b has edges to: []\n"
     ]
    }
   ],
   "source": [
    "g = Graph()\n",
    "g.add_vertex('a')\n",
    "g.add_vertex('b')\n",
    "g.print_graph()\n",
    "g.add_edge('a','b')\n",
    "g.add_edge('b','a')\n",
    "g.print_graph()\n",
    "g.remove_vertex('b')\n",
    "g.print_graph()\n",
    "g.add_vertex('a')\n",
    "g.add_vertex('b')\n",
    "g.add_edge('a','b')\n",
    "g.add_edge('b','a')\n",
    "g.print_graph()\n",
    "g.remove_edge('b','a')\n",
    "g.print_graph()"
   ]
  },
  {
   "cell_type": "code",
   "execution_count": null,
   "id": "47847a56",
   "metadata": {},
   "outputs": [],
   "source": [
    "\n"
   ]
  }
 ],
 "metadata": {
  "kernelspec": {
   "display_name": "Python 3 (ipykernel)",
   "language": "python",
   "name": "python3"
  },
  "language_info": {
   "codemirror_mode": {
    "name": "ipython",
    "version": 3
   },
   "file_extension": ".py",
   "mimetype": "text/x-python",
   "name": "python",
   "nbconvert_exporter": "python",
   "pygments_lexer": "ipython3",
   "version": "3.10.10"
  }
 },
 "nbformat": 4,
 "nbformat_minor": 5
}
